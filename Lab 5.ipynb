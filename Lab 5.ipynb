{
 "cells": [
  {
   "cell_type": "code",
   "execution_count": 23,
   "id": "3beaaead",
   "metadata": {},
   "outputs": [
    {
     "name": "stdout",
     "output_type": "stream",
     "text": [
      "Enter a line of text:  TEst\n",
      "TEST\n",
      "test\n"
     ]
    }
   ],
   "source": [
    "#Task 1 : Write a program that inputs a line of text. Output the text in uppercase letters and in\n",
    "#        lowercase letters using built-in functions\n",
    "case=str(input(\"Enter a line of text:  \"))\n",
    "\n",
    "upp=case.upper()\n",
    "low=case.lower()\n",
    "\n",
    "print(upp)\n",
    "print(low)\n"
   ]
  },
  {
   "cell_type": "code",
   "execution_count": 25,
   "id": "0ffca922",
   "metadata": {},
   "outputs": [
    {
     "name": "stdout",
     "output_type": "stream",
     "text": [
      "Enter a string:  this is me\n",
      "2\n"
     ]
    }
   ],
   "source": [
    "#Task 2. A simple way to estimate the number of words in a string is to count the number of\n",
    "#       spaces in the string. Write a program that asks the user for a string and returns an\n",
    "#       estimate of how many words are in the string.\n",
    "count_words=str(input(\"Enter a string:  \"))\n",
    "print(count_words.count(' '))"
   ]
  },
  {
   "cell_type": "code",
   "execution_count": 2,
   "id": "b5c97179",
   "metadata": {},
   "outputs": [
    {
     "name": "stdout",
     "output_type": "stream",
     "text": [
      "Enter a string: Haffi,zuddi.f\n",
      "Resulting String:   haffizuddif\n"
     ]
    }
   ],
   "source": [
    "#Task 3 Write a program that asks the user to enter a string s and then converts s to lowercase,\n",
    "#       removes all the periods and commas from s, and prints the resulting string.(Hint: use the\n",
    "#       split method)\n",
    "\n",
    "def remove_punctuation(string):\n",
    "    string = string.lower()\n",
    "    string = string.replace(\".\", \"\")\n",
    "    string = string.replace(\",\", \"\")\n",
    "    return string\n",
    "\n",
    "x = input(\"Enter a string: \")\n",
    "y = remove_punctuation(x)\n",
    "print(\"Resulting String:  \", y)\n"
   ]
  },
  {
   "cell_type": "code",
   "execution_count": 3,
   "id": "bfad88e9",
   "metadata": {},
   "outputs": [
    {
     "name": "stdout",
     "output_type": "stream",
     "text": [
      "After removing 3382: [4353, 2314, 2956, 9362, 3900]\n",
      "Index of 9362: 3\n",
      "After inserting 4499: [4353, 2314, 2956, 9362, 4499, 3900]\n",
      "After extending the list: [4353, 2314, 2956, 9362, 4499, 3900, 5566, 1830]\n",
      "After reversing the list: [1830, 5566, 3900, 4499, 9362, 2956, 2314, 4353]\n",
      "After sorting the list: [1830, 2314, 2956, 3900, 4353, 4499, 5566, 9362]\n"
     ]
    }
   ],
   "source": [
    "#Task 4: A variable ids refers to the list [4353, 2314, 2956, 3382, 9362, 3900]. Using list\n",
    "#        methods, do the following:\n",
    "#a. Remove 3382 from the list.\n",
    "#b. Get the index of 9362.\n",
    "#c. Insert 4499 in the list after 9362.\n",
    "#d. Extend the list by adding [5566, 1830] to it.\n",
    "#e. Reverse the list.\n",
    "#f. Sort the list.\n",
    "\n",
    "ids = [4353, 2314, 2956, 3382, 9362, 3900]\n",
    "\n",
    "\n",
    "ids.remove(3382)\n",
    "print(\"After removing 3382:\", ids)\n",
    "\n",
    "\n",
    "index_9362 = ids.index(9362)\n",
    "print(\"Index of 9362:\", index_9362)\n",
    "\n",
    "\n",
    "ids.insert(index_9362 + 1, 4499)\n",
    "print(\"After inserting 4499:\", ids)\n",
    "\n",
    "\n",
    "ids.extend([5566, 1830])\n",
    "print(\"After extending the list:\", ids)\n",
    "\n",
    "\n",
    "ids.reverse()\n",
    "print(\"After reversing the list:\", ids)\n",
    "\n",
    "\n",
    "ids.sort()\n",
    "print(\"After sorting the list:\", ids)\n"
   ]
  },
  {
   "cell_type": "code",
   "execution_count": 4,
   "id": "effbb9a5",
   "metadata": {},
   "outputs": [
    {
     "name": "stdout",
     "output_type": "stream",
     "text": [
      "Outcome\t\tPercentage\n",
      "-------------------------\n",
      "2\t\t2.70%\n",
      "3\t\t5.32%\n",
      "4\t\t8.51%\n",
      "5\t\t11.18%\n",
      "6\t\t14.17%\n",
      "7\t\t16.21%\n",
      "8\t\t14.43%\n",
      "9\t\t11.28%\n",
      "10\t\t8.30%\n",
      "11\t\t5.08%\n",
      "12\t\t2.82%\n"
     ]
    }
   ],
   "source": [
    "#Task 5: When playing games where you have to roll two dice, it is nice to know the odds of each\n",
    "#roll. For instance, the odds of rolling a 12 are about 3%, and the odds of rolling a 7 are\n",
    "#about 17%. You can compute these mathematically, but if you don’t know the math, you\n",
    "#can write a program to do it. To do this, your program should simulate rolling two dice\n",
    "#about 10,000 times and compute and print out the percentage of rolls that come out to\n",
    "#be 2, 3, 4, . . . , 12. Print the results in a table format.\n",
    "\n",
    "import random\n",
    "\n",
    "def roll_two_dice():\n",
    "    return random.randint(1, 6) + random.randint(1, 6)\n",
    "\n",
    "def calculate_percentage(count, total):\n",
    "    return (count / total) * 100\n",
    "\n",
    "\n",
    "outcome_counts = {i: 0 for i in range(2, 13)}\n",
    "\n",
    "total_rolls = 10000\n",
    "\n",
    "\n",
    "for _ in range(total_rolls):\n",
    "    roll = roll_two_dice()\n",
    "    outcome_counts[roll] += 1\n",
    "\n",
    "\n",
    "print(\"Outcome\\t\\tPercentage\")\n",
    "print(\"-------------------------\")\n",
    "for outcome, count in outcome_counts.items():\n",
    "    percentage = calculate_percentage(count, total_rolls)\n",
    "    print(f\"{outcome}\\t\\t{percentage:.2f}%\")\n"
   ]
  },
  {
   "cell_type": "code",
   "execution_count": 3,
   "id": "36450363",
   "metadata": {},
   "outputs": [
    {
     "name": "stdout",
     "output_type": "stream",
     "text": [
      "Data: [13, 66, 83, 55, 68, 70, 16, 27, 69, 83, 75, 77, 78, 36, 6, 14, 77, 68, 78, 49, 92, 40, 64, 3, 10, 26, 6, 29, 33, 39, 34, 43, 33, 45, 25, 17, 31, 90, 4, 26, 98, 62, 81, 69, 100, 28, 64, 41, 100, 60, 41, 77, 63, 92, 24, 74, 7, 59, 98, 17, 1, 16, 34, 19, 46, 20, 68, 85, 48, 5, 67, 70, 65, 48, 86, 54, 78, 12, 79, 62, 15, 77, 2, 4, 83, 75, 90, 15, 23, 91, 77, 51, 9, 97, 18, 39, 45, 94, 8]\n",
      "Mean: 49\n",
      "Median: 49\n",
      "Mode: 77\n"
     ]
    }
   ],
   "source": [
    "#Task 6:  Write a function each for mean, median and mode that accepts a list as an argument.\n",
    "#        The mean, median, and mode functions return an integer.\n",
    "import random\n",
    "from statistics import mode\n",
    "\n",
    "def calculate_mean(data):\n",
    "    return sum(data) // len(data)\n",
    "\n",
    "def calculate_median(data):\n",
    "    sorted_data = sorted(data)\n",
    "    mid = len(data) // 2\n",
    "\n",
    "    if len(data) % 2 == 0:\n",
    "        return (sorted_data[mid - 1] + sorted_data[mid]) // 2\n",
    "    else:\n",
    "        return sorted_data[mid]\n",
    "\n",
    "\n",
    "data = [random.randint(1, 100) for _ in range(99)]\n",
    "\n",
    "\n",
    "mean = calculate_mean(data)\n",
    "median = calculate_median(data)\n",
    "mode_value = mode(data)\n",
    "\n",
    "\n",
    "print(\"Data:\", data)\n",
    "print(\"Mean:\", mean)\n",
    "print(\"Median:\", median)\n",
    "print(\"Mode:\", mode_value)\n"
   ]
  },
  {
   "cell_type": "code",
   "execution_count": 5,
   "id": "deb17035",
   "metadata": {},
   "outputs": [
    {
     "name": "stdout",
     "output_type": "stream",
     "text": [
      "Original list: [1, 2, 3, 4, 5]\n",
      "Rotated list: [5, 1, 2, 3, 4]\n"
     ]
    }
   ],
   "source": [
    "#Task 7:  Write a program that rotates the elements of a list so that the element at the first index\n",
    "#         moves to the second index, the element in the second index moves to the third index,\n",
    "#         etc., and the element in the last index moves to the first index.\n",
    "def rotate_list(lst):\n",
    "    rotated_list = [lst[-1]] + lst[:-1]\n",
    "    return rotated_list\n",
    "\n",
    "\n",
    "my_list = [1, 2, 3, 4, 5]\n",
    "\n",
    "\n",
    "rotated_list = rotate_list(my_list)\n",
    "\n",
    "\n",
    "print(\"Original list:\", my_list)\n",
    "print(\"Rotated list:\", rotated_list)\n"
   ]
  },
  {
   "cell_type": "code",
   "execution_count": 6,
   "id": "63d61059",
   "metadata": {},
   "outputs": [
    {
     "name": "stdout",
     "output_type": "stream",
     "text": [
      "Random List: [1, 0, 0, 0, 0, 0, 1, 0, 0, 0, 1, 0, 0, 0, 0, 1, 1, 1, 0, 0, 0, 1, 0, 1, 0, 1, 1, 1, 0, 1, 1, 0, 0, 0, 1, 1, 1, 0, 0, 1, 1, 1, 1, 0, 1, 1, 1, 0, 1, 1, 1, 0, 1, 1, 1, 1, 0, 1, 0, 0, 0, 0, 1, 0, 1, 0, 0, 1, 0, 0, 0, 0, 0, 0, 1, 1, 1, 1, 1, 0, 1, 0, 1, 0, 0, 0, 1, 1, 1, 0, 1, 0, 0, 0, 0, 0, 0, 1, 1, 1]\n",
      "Longest run of zeros: 6\n"
     ]
    }
   ],
   "source": [
    "#Task 8:  Write a program that generates 100 random integers that are either 0 or 1. Then find the longest\n",
    "#         run of zeros, the largest number of zeros in a row\n",
    "import random\n",
    "\n",
    "\n",
    "random_list = [random.randint(0, 1) for _ in range(100)]\n",
    "\n",
    "\n",
    "max_zeros = 0\n",
    "current_zeros = 0\n",
    "\n",
    "for num in random_list:\n",
    "    if num == 0:\n",
    "        current_zeros += 1\n",
    "        if current_zeros > max_zeros:\n",
    "            max_zeros = current_zeros\n",
    "    else:\n",
    "        current_zeros = 0\n",
    "\n",
    "\n",
    "print(\"Random List:\", random_list)\n",
    "print(\"Longest run of zeros:\", max_zeros)\n"
   ]
  },
  {
   "cell_type": "code",
   "execution_count": null,
   "id": "f1c0b50e",
   "metadata": {},
   "outputs": [],
   "source": []
  }
 ],
 "metadata": {
  "kernelspec": {
   "display_name": "Python 3 (ipykernel)",
   "language": "python",
   "name": "python3"
  },
  "language_info": {
   "codemirror_mode": {
    "name": "ipython",
    "version": 3
   },
   "file_extension": ".py",
   "mimetype": "text/x-python",
   "name": "python",
   "nbconvert_exporter": "python",
   "pygments_lexer": "ipython3",
   "version": "3.10.9"
  }
 },
 "nbformat": 4,
 "nbformat_minor": 5
}
