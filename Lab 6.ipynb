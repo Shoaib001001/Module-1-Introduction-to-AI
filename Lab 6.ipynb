{
 "cells": [
  {
   "cell_type": "code",
   "execution_count": 14,
   "id": "7f494134",
   "metadata": {},
   "outputs": [
    {
     "name": "stdout",
     "output_type": "stream",
     "text": [
      "Area of Rectangele:   28\n",
      "Perimeter of Rectangle:   15\n"
     ]
    }
   ],
   "source": [
    "#Task 1 : Write a Python class called Rectangle that has attributes length and width. Implement\n",
    "#methods to calculate the area and perimeter of the rectangle.\n",
    "class Rectangle:\n",
    "    def __init__(self,lenth,width):\n",
    "        self.lenth=lenth\n",
    "        self.width=width\n",
    "    def area(self):\n",
    "        return self.lenth*self.width\n",
    "    def perimeter(self):\n",
    "        return 2*self.lenth+self.width\n",
    "R1=Rectangle(4,7)\n",
    "print(\"Area of Rectangele:  \",R1.area())\n",
    "print(\"Perimeter of Rectangle:  \",R1.perimeter())"
   ]
  },
  {
   "cell_type": "code",
   "execution_count": 15,
   "id": "84b97b4e",
   "metadata": {
    "scrolled": true
   },
   "outputs": [
    {
     "name": "stdout",
     "output_type": "stream",
     "text": [
      "Animal is making a sound.\n",
      "Dog is barking.\n",
      "Cat is meowing.\n",
      "Bird is Ku Ku\n"
     ]
    }
   ],
   "source": [
    "#Task 2 : Create a class hierarchy in Python consisting of a base class called Animal, and derived\n",
    "#classes Dog, Cat, and Bird. Each derived class should have its unique method. Instantiate\n",
    "#objects of each class and demonstrate polymorphism by calling a common method on\n",
    "#each object.\n",
    "class Animal:\n",
    "    def sound(self):\n",
    "        print(\"Animal is making a sound.\")\n",
    "class Dog(Animal):\n",
    "    def sound(self):\n",
    "        print(\"Dog is barking.\")\n",
    "class Cat(Animal):\n",
    "    def sound(self):\n",
    "        print(\"Cat is meowing.\")\n",
    "class Bird(Animal):\n",
    "    def sound(self):\n",
    "        print(\"Bird is Ku Ku\")\n",
    "\n",
    "animal = Animal()\n",
    "dog = Dog()\n",
    "cat = Cat()\n",
    "bird = Bird()\n",
    "\n",
    "animal.sound() \n",
    "dog.sound() \n",
    "cat.sound()\n",
    "bird.sound()\n",
    " "
   ]
  },
  {
   "cell_type": "code",
   "execution_count": 2,
   "id": "f48eb119",
   "metadata": {},
   "outputs": [
    {
     "name": "stdout",
     "output_type": "stream",
     "text": [
      "Rectangle area: 50\n",
      "Circle area: 28.26\n"
     ]
    }
   ],
   "source": [
    "#Task 3 :  Write a Python class called Shape with a method area() that returns the area of the\n",
    "#shape. Create two subclasses, Rectangle and Circle, each overriding the area() method to\n",
    "#calculate the area of the specific shape. Instantiate objects of each class and display\n",
    "#their areas.\n",
    "class Shape:\n",
    "    def area(self):\n",
    "        pass\n",
    "\n",
    "class Rectangle(Shape):\n",
    "    def __init__(self, length, width):\n",
    "        self.length = length\n",
    "        self.width = width\n",
    "\n",
    "    def area(self):\n",
    "        return self.length * self.width\n",
    "\n",
    "class Circle(Shape):\n",
    "    def __init__(self, radius):\n",
    "        self.radius = radius\n",
    "\n",
    "    def area(self):\n",
    "        return 3.14 * self.radius ** 2\n",
    "\n",
    "# Instantiate objects and display their areas\n",
    "rectangle = Rectangle(5, 10)\n",
    "circle = Circle(3)\n",
    "\n",
    "print(\"Rectangle area:\", rectangle.area())\n",
    "print(\"Circle area:\", circle.area())\n",
    "        \n",
    "    \n"
   ]
  },
  {
   "cell_type": "code",
   "execution_count": null,
   "id": "9dd3f0f6",
   "metadata": {
    "scrolled": true
   },
   "outputs": [],
   "source": [
    "\n",
    "\n",
    "\n"
   ]
  },
  {
   "cell_type": "code",
   "execution_count": null,
   "id": "b2271bfc",
   "metadata": {},
   "outputs": [],
   "source": []
  }
 ],
 "metadata": {
  "kernelspec": {
   "display_name": "Python 3 (ipykernel)",
   "language": "python",
   "name": "python3"
  },
  "language_info": {
   "codemirror_mode": {
    "name": "ipython",
    "version": 3
   },
   "file_extension": ".py",
   "mimetype": "text/x-python",
   "name": "python",
   "nbconvert_exporter": "python",
   "pygments_lexer": "ipython3",
   "version": "3.10.9"
  }
 },
 "nbformat": 4,
 "nbformat_minor": 5
}
