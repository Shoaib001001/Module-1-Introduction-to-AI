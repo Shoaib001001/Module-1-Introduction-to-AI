{
 "cells": [
  {
   "cell_type": "code",
   "execution_count": 2,
   "id": "ccae6e65",
   "metadata": {},
   "outputs": [
    {
     "name": "stdout",
     "output_type": "stream",
     "text": [
      "6\n",
      "20.0\n",
      "4.5\n",
      "-4.5\n",
      "-5\n",
      "1\n",
      "1.0\n",
      "1.0\n",
      "-1\n",
      "1\n",
      "-1.0\n",
      "19\n",
      "35\n"
     ]
    }
   ],
   "source": [
    "print(9-3)\n",
    "print(8*2.5)\n",
    "print(9/2)\n",
    "print(9/-2)\n",
    "print(9//-2)\n",
    "print(9%2)\n",
    "print(9.0%2)\n",
    "print(9%2.0)\n",
    "print(9%-2)\n",
    "print(-9%2)\n",
    "print(9%-2.0)\n",
    "print(4+3*5)\n",
    "print((4+3)*5)"
   ]
  },
  {
   "cell_type": "code",
   "execution_count": 4,
   "id": "1335ac2a",
   "metadata": {},
   "outputs": [
    {
     "name": "stdout",
     "output_type": "stream",
     "text": [
      "7 --- 14 --- 21 --- 28 --- 35\n"
     ]
    }
   ],
   "source": [
    ">>> x=7\n",
    "print(x,(\"---\"),(2*x),(\"---\"),(3*x),(\"---\"),(4*x),(\"---\"),(5*x))"
   ]
  },
  {
   "cell_type": "code",
   "execution_count": 11,
   "id": "0fb431f2",
   "metadata": {},
   "outputs": [
    {
     "name": "stdout",
     "output_type": "stream",
     "text": [
      "Enter two numbers:20 5\n",
      "The sum is  25\n",
      "The product is  100\n",
      "The difference is 15\n",
      "The quotient is 4.0\n",
      "The modulus is 0\n"
     ]
    }
   ],
   "source": [
    "x ,y = map(int,input(\"Enter two numbers:\").split())\n",
    "print(\"The sum is \",x+y)\n",
    "print(\"The product is \",x*y)\n",
    "print(\"The difference is\",x-y)\n",
    "print(\"The quotient is\",x/y)\n",
    "print(\"The modulus is\",x%y)"
   ]
  },
  {
   "cell_type": "code",
   "execution_count": 15,
   "id": "7047e665",
   "metadata": {},
   "outputs": [
    {
     "name": "stdout",
     "output_type": "stream",
     "text": [
      "Input the circle radius:  9\n",
      "The Diameter is: 18\n",
      "The Circumference is: 56.54862\n",
      "The Area is: 254.46879\n"
     ]
    }
   ],
   "source": [
    "radius = int(input(\"Input the circle radius:  \"))\n",
    "pie=3.14159\n",
    "print(\"The Diameter is:\",2*radius)\n",
    "print(\"The Circumference is:\",2*pie*radius)\n",
    "print(\"The Area is:\",pie*radius*radius)"
   ]
  },
  {
   "cell_type": "code",
   "execution_count": 18,
   "id": "d8496172",
   "metadata": {},
   "outputs": [
    {
     "name": "stdout",
     "output_type": "stream",
     "text": [
      " HHHHHH\n",
      "  HHHHH\n",
      "   HHHH\n",
      "    HHH\n",
      "     HH\n",
      "      H\n"
     ]
    }
   ],
   "source": [
    "word=\"H\"\n",
    "print('',word*6)\n",
    "print(' ',word*5)\n",
    "print('  ',word*4)\n",
    "print('   ',word*3)\n",
    "print('    ',word*2)\n",
    "print('     ',word*1)"
   ]
  },
  {
   "cell_type": "code",
   "execution_count": 2,
   "id": "d2760f20",
   "metadata": {},
   "outputs": [
    {
     "name": "stdout",
     "output_type": "stream",
     "text": [
      "Enter a number:13\n",
      "The number is odd\n"
     ]
    }
   ],
   "source": [
    "num=int(input(\"Enter a number:\"))\n",
    "if(num%2)==0:\n",
    " print(\"The number is even\")\n",
    "else:\n",
    "    print(\"The number is odd\")"
   ]
  },
  {
   "cell_type": "code",
   "execution_count": 1,
   "id": "30835104",
   "metadata": {},
   "outputs": [
    {
     "name": "stdout",
     "output_type": "stream",
     "text": [
      "Input three different integers:1 23 445\n",
      "The smallest number is: 1\n",
      "The largest number is: 445\n"
     ]
    }
   ],
   "source": [
    "x ,y,z = map(int,input(\"Input three different integers:\").split())\n",
    "smallest = x\n",
    "largest = y\n",
    "if y < smallest:\n",
    "    smallest = y\n",
    "if z < smallest:\n",
    "    smallest = z\n",
    "if y > largest:\n",
    "    largest = y\n",
    "if z > largest:\n",
    "    largest = z\n",
    "print(\"The smallest number is:\", smallest)\n",
    "print(\"The largest number is:\", largest)"
   ]
  },
  {
   "cell_type": "code",
   "execution_count": 6,
   "id": "d953b479",
   "metadata": {},
   "outputs": [
    {
     "ename": "SyntaxError",
     "evalue": "'literal' is an illegal expression for augmented assignment (1829918741.py, line 1)",
     "output_type": "error",
     "traceback": [
      "\u001b[1;36m  Cell \u001b[1;32mIn[6], line 1\u001b[1;36m\u001b[0m\n\u001b[1;33m    4 += 7 / 2\u001b[0m\n\u001b[1;37m    ^\u001b[0m\n\u001b[1;31mSyntaxError\u001b[0m\u001b[1;31m:\u001b[0m 'literal' is an illegal expression for augmented assignment\n"
     ]
    }
   ],
   "source": [
    "4 += 7 / 2\n",
    "\n",
    "\n",
    "    "
   ]
  },
  {
   "cell_type": "code",
   "execution_count": 16,
   "id": "0ba7839a",
   "metadata": {},
   "outputs": [
    {
     "name": "stdout",
     "output_type": "stream",
     "text": [
      "Number      Square           Cube\n",
      "0           0       0\n",
      "1           1       1\n",
      "2           4       8\n",
      "3           9       27\n",
      "4           16      64\n",
      "5           25      125\n",
      "6           36      216\n",
      "7           49      343\n",
      "8           64      512\n",
      "9           81      729\n",
      "10          100     1000\n"
     ]
    }
   ],
   "source": [
    "print(\"Number      Square           Cube\")\n",
    "print( 0,'         ', 0,     '     ',  0)\n",
    "print( 1,'         ', 1,     '     ',  1)\n",
    "print( 2,'         ', 2**2,  '     ',  2**3)\n",
    "print( 3,'         ', 3**2,  '     ',  3**3)\n",
    "print( 4,'         ', 4**2,  '    ',  4**3)\n",
    "print( 5,'         ', 5**2,  '    ',  5**3)\n",
    "print( 6,'         ', 6**2,  '    ',  6**3)\n",
    "print( 7,'         ', 7**2,  '    ',  7**3)\n",
    "print( 8,'         ', 8**2,  '    ',  8**3)\n",
    "print( 9,'         ', 9**2,  '    ',  9**3)\n",
    "print( 10,'        ', 10**2, '   ',  10**3)"
   ]
  },
  {
   "cell_type": "code",
   "execution_count": 18,
   "id": "cd686a6b",
   "metadata": {},
   "outputs": [
    {
     "name": "stdout",
     "output_type": "stream",
     "text": [
      "Before swapping:\n",
      "a = 5\n",
      "b = 10\n",
      "After swapping:\n",
      "a = 10\n",
      "b = 5\n"
     ]
    }
   ],
   "source": [
    "a = 5\n",
    "b = 10\n",
    "print(\"Before swapping:\")\n",
    "print(\"a =\", a)\n",
    "print(\"b =\", b)\n",
    "a, b = b, a\n",
    "print(\"After swapping:\")\n",
    "print(\"a =\", a)\n",
    "print(\"b =\", b)"
   ]
  },
  {
   "cell_type": "code",
   "execution_count": 19,
   "id": "7d807e97",
   "metadata": {},
   "outputs": [
    {
     "name": "stdout",
     "output_type": "stream",
     "text": [
      "Enter a five-digit number: 12345\n",
      "The reverse of the number is: 54321\n"
     ]
    }
   ],
   "source": [
    "num = int(input(\"Enter a five-digit number: \"))\n",
    "digit1 = num % 10\n",
    "digit2 = (num // 10) % 10\n",
    "digit3 = (num // 100) % 10\n",
    "digit4 = (num // 1000) % 10\n",
    "digit5 = (num // 10000) % 10\n",
    "reverse_num = str(digit1) + str(digit2) + str(digit3) + str(digit4) + str(digit5)\n",
    "print(\"The reverse of the number is:\", reverse_num)"
   ]
  },
  {
   "cell_type": "code",
   "execution_count": 20,
   "id": "8e914e4e",
   "metadata": {},
   "outputs": [
    {
     "name": "stdout",
     "output_type": "stream",
     "text": [
      "*********\n",
      "*       *\n",
      "*       *\n",
      "*       *\n",
      "*********\n",
      "   ***   \n",
      " *     * \n",
      "*       *\n",
      "*       *\n",
      " *     * \n",
      "   ***   \n",
      "    *    \n",
      "   ***   \n",
      "  *****  \n",
      "    *    \n",
      "    *    \n",
      "    *    \n",
      "    *    \n",
      "    *    \n",
      "   ***   \n",
      "  *****  \n",
      " ******* \n",
      "  *****  \n",
      "   ***   \n",
      "    *    \n"
     ]
    }
   ],
   "source": [
    "# Print a box\n",
    "print(\"*********\")\n",
    "print(\"*       *\")\n",
    "print(\"*       *\")\n",
    "print(\"*       *\")\n",
    "print(\"*********\")\n",
    "\n",
    "# Print an oval\n",
    "print(\"   ***   \")\n",
    "print(\" *     * \")\n",
    "print(\"*       *\")\n",
    "print(\"*       *\")\n",
    "print(\" *     * \")\n",
    "print(\"   ***   \")\n",
    "\n",
    "# Print an arrow\n",
    "print(\"    *    \")\n",
    "print(\"   ***   \")\n",
    "print(\"  *****  \")\n",
    "print(\"    *    \")\n",
    "print(\"    *    \")\n",
    "print(\"    *    \")\n",
    "print(\"    *    \")\n",
    "\n",
    "# Print a diamond\n",
    "print(\"    *    \")\n",
    "print(\"   ***   \")\n",
    "print(\"  *****  \")\n",
    "print(\" ******* \")\n",
    "print(\"  *****  \")\n",
    "print(\"   ***   \")\n",
    "print(\"    *    \")"
   ]
  },
  {
   "cell_type": "code",
   "execution_count": 22,
   "id": "2137081f",
   "metadata": {},
   "outputs": [
    {
     "name": "stdout",
     "output_type": "stream",
     "text": [
      "Enter three integer: 3 4 5\n",
      "The three integers are the sides of a right triangle.\n"
     ]
    }
   ],
   "source": [
    "a,b,c = map(int,input(\"Enter three integer: \").split())\n",
    "if a**2 + b**2 == c**2 or a**2 + c**2 == b**2 or b**2 + c**2 == a**2:\n",
    "    print(\"The three integers are the sides of a right triangle.\")\n",
    "else:\n",
    "    print(\"These integers are not the sides of a right triangle.\")"
   ]
  },
  {
   "cell_type": "code",
   "execution_count": 28,
   "id": "663e82a8",
   "metadata": {},
   "outputs": [
    {
     "name": "stdout",
     "output_type": "stream",
     "text": [
      "Enter score:  2\n",
      "Bad score\n"
     ]
    }
   ],
   "source": [
    "a=float(input(\"Enter score:  \"))\n",
    "if a<0.0 or a>1.0: \n",
    "    print(\"Bad score\")\n",
    "elif a>=0.9:\n",
    "    print(\"A\")\n",
    "elif a>=0.8:\n",
    "    print(\"B\")\n",
    "elif a>=0.7:\n",
    "    print(\"C\")\n",
    "elif a>=0.6:\n",
    "    print(\"D\")\n",
    "elif a<0.6:\n",
    "    print(\"F\")    "
   ]
  },
  {
   "cell_type": "code",
   "execution_count": 1,
   "id": "1276f89a",
   "metadata": {},
   "outputs": [
    {
     "name": "stdout",
     "output_type": "stream",
     "text": [
      "Enter hour:  1\n",
      "am (1) or pm (2) ? 2\n",
      "How many hours ahead?  12\n",
      "New hour: 13 pm\n"
     ]
    }
   ],
   "source": [
    "hour=int(input(\"Enter hour:  \"))\n",
    "ampm=int(input(\"am (1) or pm (2) ? \"))\n",
    "addhour=int(input(\"How many hours ahead?  \"))\n",
    "if ampm==1:\n",
    "    print(\"New hour:\",hour+addhour,\"am\")\n",
    "else:\n",
    "    print(\"New hour:\",hour+addhour,\"pm\")"
   ]
  },
  {
   "cell_type": "code",
   "execution_count": 32,
   "id": "516ef8a8",
   "metadata": {},
   "outputs": [
    {
     "name": "stdout",
     "output_type": "stream",
     "text": [
      "Enter a five-digit number:  12321\n",
      "12321 is a palindrome\n"
     ]
    }
   ],
   "source": [
    "num=int(input(\"Enter a five-digit number:  \"))\n",
    "if num//10000==num%10 and (num//1000)%10==(num//10)%10:\n",
    "    print(num,\"is a palindrome\")\n",
    "else:\n",
    "    print(num,\"is not a palindrome\")\n"
   ]
  },
  {
   "cell_type": "code",
   "execution_count": null,
   "id": "6e5cc92c",
   "metadata": {},
   "outputs": [],
   "source": []
  }
 ],
 "metadata": {
  "kernelspec": {
   "display_name": "Python 3 (ipykernel)",
   "language": "python",
   "name": "python3"
  },
  "language_info": {
   "codemirror_mode": {
    "name": "ipython",
    "version": 3
   },
   "file_extension": ".py",
   "mimetype": "text/x-python",
   "name": "python",
   "nbconvert_exporter": "python",
   "pygments_lexer": "ipython3",
   "version": "3.10.9"
  }
 },
 "nbformat": 4,
 "nbformat_minor": 5
}
